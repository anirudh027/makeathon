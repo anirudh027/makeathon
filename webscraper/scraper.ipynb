{
 "cells": [
  {
   "cell_type": "markdown",
   "metadata": {},
   "source": [
    "## Mercedes-Benz car links"
   ]
  },
  {
   "cell_type": "code",
   "execution_count": 98,
   "metadata": {},
   "outputs": [],
   "source": [
    "import requests\n",
    "from bs4 import BeautifulSoup\n",
    "\n",
    "# URL of the webpage you want to scrape\n",
    "url = \"https://ev-database.org/#sort:path~type~order=.rank~number~desc|make-checkbox-dropdown:pathGroup=.mercedes-benz|rs-price:prev~next=10000~100000|rs-range:prev~next=0~1000|rs-fastcharge:prev~next=0~1500|rs-acceleration:prev~next=2~23|rs-topspeed:prev~next=110~350|rs-battery:prev~next=10~200|rs-towweight:prev~next=0~2500|rs-eff:prev~next=100~300|rs-safety:prev~next=-1~5|paging:currentPage=0|paging:number=10\"\n",
    "# Send a GET request to the webpage\n",
    "response = requests.get(url)\n",
    "\n",
    "# Check if the request was successful\n",
    "if response.status_code == 200:\n",
    "    # Parse the HTML content of the webpage\n",
    "    soup = BeautifulSoup(response.text, 'html.parser')\n",
    "    \n",
    "    # Extract specific information from the webpage\n",
    "    # For example, let's extract all the links on the webpage\n",
    "    text = soup.get_text()\n",
    "    links = soup.find_all('a')\n",
    "    \n",
    "else:\n",
    "    print(\"Failed to retrieve the webpage\")\n"
   ]
  },
  {
   "cell_type": "markdown",
   "metadata": {},
   "source": [
    "filter only Mercedes"
   ]
  },
  {
   "cell_type": "code",
   "execution_count": 99,
   "metadata": {},
   "outputs": [],
   "source": [
    "default = \"https://ev-database.org\"\n",
    "filtered_links = []\n",
    "for link in links:\n",
    "    if 'Mercedes-Benz' in link.text:\n",
    "        filtered_links.append(default+link['href'])\n",
    "        # print(link.text)"
   ]
  },
  {
   "cell_type": "code",
   "execution_count": null,
   "metadata": {},
   "outputs": [],
   "source": [
    "filtered_links"
   ]
  },
  {
   "cell_type": "markdown",
   "metadata": {},
   "source": [
    "## Web-scrape all the Mercedes-Benz car info for each of the cars"
   ]
  },
  {
   "cell_type": "code",
   "execution_count": 97,
   "metadata": {},
   "outputs": [
    {
     "name": "stdout",
     "output_type": "stream",
     "text": [
      "Failed to retrieve the webpage\n",
      "Failed to retrieve the webpage\n",
      "Failed to retrieve the webpage\n",
      "Failed to retrieve the webpage\n",
      "Failed to retrieve the webpage\n",
      "Failed to retrieve the webpage\n",
      "Failed to retrieve the webpage\n",
      "Failed to retrieve the webpage\n",
      "Failed to retrieve the webpage\n",
      "Failed to retrieve the webpage\n",
      "Failed to retrieve the webpage\n",
      "Failed to retrieve the webpage\n",
      "Failed to retrieve the webpage\n",
      "Failed to retrieve the webpage\n",
      "Failed to retrieve the webpage\n",
      "Failed to retrieve the webpage\n",
      "Failed to retrieve the webpage\n",
      "Failed to retrieve the webpage\n",
      "Failed to retrieve the webpage\n",
      "Failed to retrieve the webpage\n",
      "Failed to retrieve the webpage\n",
      "Failed to retrieve the webpage\n",
      "Failed to retrieve the webpage\n",
      "Failed to retrieve the webpage\n",
      "Failed to retrieve the webpage\n",
      "Failed to retrieve the webpage\n",
      "Failed to retrieve the webpage\n",
      "Failed to retrieve the webpage\n",
      "Failed to retrieve the webpage\n",
      "Failed to retrieve the webpage\n",
      "Failed to retrieve the webpage\n",
      "Failed to retrieve the webpage\n",
      "Failed to retrieve the webpage\n",
      "Failed to retrieve the webpage\n",
      "Failed to retrieve the webpage\n",
      "Failed to retrieve the webpage\n",
      "Failed to retrieve the webpage\n"
     ]
    }
   ],
   "source": [
    "import requests\n",
    "from bs4 import BeautifulSoup\n",
    "\n",
    "all_mercedes_info = []\n",
    "\n",
    "for url in filtered_links:\n",
    "    response = requests.get(url)\n",
    "\n",
    "    # Check if the request was successful\n",
    "    if response.status_code == 200:\n",
    "        # Parse the HTML content of the webpage\n",
    "        soup = BeautifulSoup(response.text, 'html.parser')\n",
    "        text = soup.get_text()\n",
    "        all_mercedes_info.append(text)\n",
    "\n",
    "    else:\n",
    "        print(\"Failed to retrieve the webpage\")\n"
   ]
  },
  {
   "cell_type": "code",
   "execution_count": 79,
   "metadata": {},
   "outputs": [
    {
     "data": {
      "text/plain": [
       "\"\\n\\n\\n\\n\\n     \\nMercedes-Benz EQB 250+ (2023-2024) price and specifications - EV Database\\n\\n\\n\\n\\n\\n\\n\\n\\n\\n\\n\\n\\n\\n\\n\\n\\n\\n\\n\\n\\n\\n\\n\\n\\n\\n\\n\\n\\n\\n\\n\\n\\n\\n\\n\\n\\n\\n\\n\\n\\n\\n \\n\\n\\n\\nMetric\\nUK Imperial\\n\\n\\n\\n\\n \\n\\n\\n\\n\\n\\n\\n\\n\\n\\n\\n\\n\\nMOST RECENT\\nCHEAPEST EV\\nTOWINGFASTCHARGINGMOST EFFICIENTLONGEST RANGE \\n\\n\\n\\n\\n\\n\\n\\n\\n\\n\\n\\n\\n\\nMOST RECENT\\nCHEAPEST EV\\nTOWINGFASTCHARGINGMOST EFFICIENTLONGEST RANGE\\n\\n\\n\\n\\n\\n\\n\\n\\n\\n\\n\\n\\n\\n\\n\\nMercedes-Benz EQB 250+\\nAvailable since October 2023\\n\\n\\n\\n\\n\\n\\n\\n\\n\\n\\n\\n70.5 kWhUseable Battery\\n415 km *Real Range 170 Wh/km *Efficiency\\n\\n\\n\\n\\n\\n\\n\\n\\n\\n\\n\\n\\n\\n\\nPrice\\n\\n\\n United Kingdom\\n£52,800\\n\\n\\n The Netherlands\\n€54,966\\n\\n\\n Germany\\n€53,514\\n\\n\\n\\n\\nAvailable to Order\\n\\n\\n United Kingdom\\nSince December 2023\\n\\n\\n The Netherlands\\nSince October 2023\\n\\n\\n Germany\\nSince October 2023\\n\\n\\n\\n\\n\\n\\t\\t\\t\\tPrices shown are recommended retail prices for the specified countries and do not include any indirect incentives. Pricing and included options can differ by region and do not include any indirect incentives. Dates shown are order dates. Click on a country for more details.\\t\\t\\t\\t\\n\\n\\nReal Range Estimation\\t\\t\\t\\tbetween 300 - 610 km\\n\\n\\n\\nCity - Cold Weather *\\n405 km\\n\\n\\nHighway - Cold Weather *\\n300 km\\n\\n\\nCombined - Cold Weather *\\n350 km\\n\\n\\n\\n\\n\\n\\nCity - Mild Weather *\\n610 km\\n\\n\\nHighway - Mild Weather *\\n385 km\\n\\n\\nCombined - Mild Weather *\\n480 km\\n\\n\\n\\n\\n\\n\\t\\t\\t Indication of real-world range in several situations. Cold weather: 'worst-case' based on -10°C and use of heating. Mild weather: 'best-case' based on 23°C and no use of A/C. For 'Highway' figures a constant speed of 110 km/h is assumed. The actual range will depend on speed, style of driving, weather and route conditions.\\t\\t\\t\\n\\n\\n\\n(Advertisement)\\n\\n\\n\\n\\n\\nPerformance\\n\\n\\n\\nAcceleration 0 - 100 km/h\\n8.9 sec\\n\\n\\nTop Speed\\n160 km/h\\n\\n\\nElectric Range *\\n415 km\\n\\n\\n\\n\\n\\n\\nTotal Power\\n140 kW (190 PS)\\n\\n\\nTotal Torque\\n385 Nm\\n\\n\\nDrive\\nFront\\n\\n\\n\\n\\n\\n\\n\\nBattery\\n\\n\\n\\nNominal Capacity\\t\\t\\t\\t\\t\\t\\t\\n73.9 kWh\\n\\n\\nBattery Type\\nLithium-ion\\n\\n\\nNumber of Cells\\nNo Data\\n\\n\\nArchitecture\\n400 V\\n\\n\\nWarranty Period\\n8 years\\n\\n\\nWarranty Mileage\\n160,000 km\\n\\n\\n\\n\\n\\n\\nUseable Capacity\\n70.5 kWh\\n\\n\\nCathode Material\\nNo Data\\n\\n\\nPack Configuration\\nNo Data\\n\\n\\nNominal Voltage\\nNo Data\\n\\n\\nForm Factor\\nNo Data\\n\\n\\nName / Reference\\nNo Data\\n\\n\\n\\n\\n\\n\\nCharging\\nHome / Destination\\n\\n\\n\\nCharge Port\\nType 2\\n\\n\\nPort Location\\nRight Side - Rear\\n\\n\\nCharge Power\\n11 kW AC\\n\\n\\n\\n\\n\\n\\nCharge Time (0->415 km)\\n7h45m\\n\\n\\nCharge Speed\\n55 km/h\\n\\n\\n\\nFast Charging\\n\\n\\n\\nFastcharge Port\\nCCS\\n\\n\\nFC Port Location\\nRight Side - Rear\\n\\n\\nFastcharge Power (max) *\\n102 kW DC\\n\\n\\nFastcharge Power (10-80%) *\\n90 kW DC\\n\\n\\n\\n\\n\\nFastcharge Time (41->332 km) *\\n35 min\\n\\n\\nFastcharge Speed *\\n490 km/h\\n\\n\\nAutocharge Supported\\nYes\\n\\n\\n\\nPlug & Charge\\n\\n\\n\\nPlug & Charge Supported\\nYes\\n\\n\\n\\n\\n\\n\\nSupported Protocol\\nISO 15118-2\\n\\n\\n\\n\\nClick here for all charging information\\n\\n\\n(Advertisement)\\n\\n\\n\\n\\n\\nBidirectional Charging (V2X / BPT)\\nVehicle-to-Load (V2L)\\n\\n\\n\\nV2L Supported\\nNo\\n\\n\\nMax. Output Power\\n-\\n\\n\\n\\n\\n\\n\\nExterior Outlet(s)\\n-\\n\\n\\nInterior Outlet(s)\\n-\\n\\n\\n\\nVehicle-to-Home (V2H)\\n\\n\\n\\nV2H via AC Supported\\nNo\\n\\n\\nMax. Output Power\\n-\\n\\n\\n\\n\\n\\n\\nV2H via DC Supported\\nNo\\n\\n\\nMax. Output Power\\n-\\n\\n\\n\\nVehicle-to-Grid (V2G)\\n\\n\\n\\nV2G via AC Supported\\nNo\\n\\n\\nMax. Output Power\\n-\\n\\n\\n\\n\\n\\n\\nV2G via DC Supported\\nNo\\n\\n\\nMax. Output Power\\n-\\n\\n\\n\\n\\n\\n\\nEnergy Consumption\\nEVDB Real Range\\n\\n\\n\\nRange *\\n415 km\\n\\n\\nVehicle Consumption *\\n170 Wh/km\\n\\n\\n\\n\\n\\n\\nCO2 Emissions\\n0 g/km\\n\\n\\nVehicle Fuel Equivalent * \\n1.9 l/100km\\n\\n\\n\\nWLTP Ratings (TEL)\\n\\n\\n\\nRange\\n536 km\\n\\n\\nRated Consumption\\n152 Wh/km\\n\\n\\nVehicle Consumption\\n132 Wh/km\\n\\n\\n\\n\\n\\n\\nCO2 Emissions\\n0 g/km\\n\\n\\nRated Fuel Equivalent\\n1.7 l/100km\\n\\n\\nVehicle Fuel Equivalent\\n1.5 l/100km\\n\\n\\n\\nWLTP Ratings (TEH)\\n\\n\\n\\nRange\\n463 km\\n\\n\\nRated Consumption\\n175 Wh/km\\n\\n\\nVehicle Consumption\\n152 Wh/km\\n\\n\\n\\n\\n\\n\\nCO2 Emissions\\n0 g/km\\n\\n\\nRated Fuel Equivalent\\n2.0 l/100km\\n\\n\\nVehicle Fuel Equivalent\\n1.7 l/100km\\n\\n\\n\\n\\n\\n\\t\\t\\tTEL = Test Energy Low | TEH = Test Energy HighRated = official figures as published by manufacturer. Rated consumption and fuel equivalency figures include charging losses.Vehicle = calculated battery energy consumption used by the vehicle for propulsion and on-board systems.\\t\\t\\t\\n\\n\\nReal Energy Consumption Estimation\\t\\t\\t\\t\\t\\tbetween 116 - 235 Wh/km\\n\\n\\n\\nCity - Cold Weather *\\n174 Wh/km\\n\\n\\nHighway - Cold Weather *\\n235 Wh/km\\n\\n\\nCombined - Cold Weather *\\n201 Wh/km\\n\\n\\n\\n\\n\\n\\nCity - Mild Weather *\\n116 Wh/km\\n\\n\\nHighway - Mild Weather *\\n183 Wh/km\\n\\n\\nCombined - Mild Weather *\\n147 Wh/km\\n\\n\\n\\n\\n\\n\\t\\t\\t\\t\\t Indication of real-world energy use in several situations. Cold weather: 'worst-case' based on -10°C and use of heating. Mild weather: 'best-case' based on 23°C and no use of A/C. For 'Highway' figures a constant speed of 110 km/h is assumed. The energy use will depend on speed, style of driving, climate and route conditions.\\t\\t\\t\\t\\t\\n\\n\\n(Advertisement)\\n\\n\\n\\n\\n\\n\\nDimensions and Weight\\n\\n\\n\\nLength\\n4684 mm\\n\\n\\nWidth\\n1834 mm\\n\\n\\nWidth with mirrors\\n2020 mm\\n\\n\\nHeight\\n1667 mm\\n\\n\\nWheelbase\\n2829 mm\\n\\n\\nWeight Unladen (EU)\\n2105 kg\\n\\n\\nGross Vehicle Weight (GVWR)\\n2540 kg\\n\\n\\nMax. Payload\\n510 kg\\n\\n\\n\\n\\n\\n\\nCargo Volume\\n495 L\\n\\n\\nCargo Volume Max\\n1710 L\\n\\n\\nCargo Volume Frunk\\n0 L\\n\\n\\nRoof Load\\n75 kg\\n\\n\\nTow Hitch Possible\\nYes\\n\\n\\nTowing Weight Unbraked\\n750 kg\\n\\n\\nTowing Weight Braked\\n1400 kg\\n\\n\\nVertical Load Max\\n80 kg\\n\\n\\n\\n\\n\\n\\nMiscellaneous\\n\\n\\n\\nSeats \\n7 people\\n\\n\\nIsofix\\nYes, 4 seats\\n\\n\\nTurning Circle\\n11.7 m\\n\\n\\nPlatform\\nDAIMLER MFA2\\n\\n\\nEV Dedicated Platform\\nNo\\n\\n\\n\\n\\n\\n\\nCar Body\\nSUV\\n\\n\\nSegment\\nJC - Medium\\n\\n\\nRoof Rails\\nYes\\n\\n\\nHeat pump (HP)\\nYes\\n\\n\\nHP Standard Equipment\\nYes\\n\\n\\n\\n\\n\\n\\n\\n\\n\\t\\t\\t\\t\\t* = estimated value. Average energy consumption and range based on moderate drive style and climate. Real-life values may differ significantly. Pricing information might not be actual for some regions. No rights can be derived from the information on this site.\\t\\t\\t\\t\\n\\n\\n\\n\\nHome and Destination Charging (0 -> 100%)\\n\\nCharging is possible by using a regular wall plug or a charging station. Public charging is always done through a charging station. How fast the EV can charge depends on the charging station (EVSE) used and the maximum charging capacity of the EV. The table below shows all possible options for charging the Mercedes-Benz EQB 250+. Each option shows how fast the battery can be charged from empty to full.\\nEurope\\nCharging an EV in Europe differs by country. Some European countries primarily use 1-phase connections to the grid, while other countries are almost exclusively using a 3-phase connection. The table below shows all possible ways the Mercedes-Benz EQB 250+ can be charged, but some modes of charging might not be widely available in certain countries.\\n\\n\\n\\nType 2 (Mennekes - IEC 62196)\\n\\n\\n\\n\\n\\n\\n\\nCharging Point\\nMax. Power\\nPower\\nTime\\nRate\\n\\n\\nStandard 11.0 kW On-Board Charger\\n \\nWall Plug (2.3 kW)\\n230V / 1x10A\\n2.3 kW\\n36h15m\\n11 km/h\\n\\n\\n1-phase 16A (3.7 kW)\\n230V / 1x16A\\n3.7 kW\\n22h30m\\n18 km/h\\n\\n\\n1-phase 32A (7.4 kW)\\n230V / 1x32A\\n7.4 kW\\n11h15m\\n37 km/h\\n\\n\\n3-phase 16A (11 kW)\\n400V / 3x16A\\n11 kW\\n7h45m\\n54 km/h\\n\\n\\n3-phase 32A (22 kW)\\n400V / 3x16A\\n11 kW †\\n7h45m\\n54 km/h\\n\\n\\nOptional 22.0kW On-Board Charger\\n\\n\\nWall Plug (2.3 kW)\\n230V / 1x10A\\n2.3 kW\\n36h15m\\n11 km/h\\n\\n\\n1-phase 16A (3.7 kW)\\n230V / 1x16A\\n3.7 kW\\n22h30m\\n18 km/h\\n\\n\\n1-phase 32A (7.4 kW)\\n230V / 1x32A\\n7.4 kW\\n11h15m\\n37 km/h\\n\\n\\n3-phase 16A (11 kW)\\n400V / 3x16A\\n11 kW\\n7h45m\\n54 km/h\\n\\n\\n3-phase 32A (22 kW)\\n400V / 3x32A\\n22 kW †\\n3h45m\\n110 km/h\\n\\n\\n\\n† = Limited by on-board charger, vehicle cannot charge faster.\\n\\n\\n\\n(Advertisement)\\n\\n\\n\\nFast Charging (10 -> 80%)\\n\\nRapid charging enables longer journeys by adding as much range as possible in the shortest amount of time. Charging power will decrease significantly after 80% state-of-charge has been reached. A typical rapid charge therefore rarely exceeds 80% SoC. The rapid charge rate of an EV depends on the charger used and the maximum charging power the EV can handle. The table below shows all details for rapid charging the Mercedes-Benz EQB 250+.\\nMercedes-Benz has not released details about rapid charging the EQB. The information below is based on estimated values of the most likely rapid charging capabilities. Max. Power: maximum power provided by charge pointAvg. Power: average power provided by charge point over a session from 10% to 80%Time: time needed to charge from 10% to 80%Rate: average charging speed over a session from 10% to 80%\\nEurope\\n\\n\\n\\nCombined Charging System (CCS Combo 2)\\n\\n\\n\\n\\n\\n\\n\\nCharging Point\\nMax. Power\\nAvg. Power\\nTime\\nRate\\n\\n\\nCCS (50 kW DC)\\n50 kW\\n45 kW †\\n69 min\\n250 km/h\\n\\n\\nCCS (100 kW DC)\\n100 kW\\n85 kW †\\n37 min\\n470 km/h\\n\\n\\nCCS (150 kW DC)\\n102 kW †\\n90 kW †\\n35 min\\n490 km/h\\n\\n\\n\\n\\n\\n\\t\\t\\t\\t\\t\\t\\t\\t\\t\\t\\tThis vehicle supports Autocharge \\n\\t\\t\\t\\t\\t\\t\\t\\t\\t\\t\\n\\n\\n\\n\\t\\t\\t\\t\\t\\t\\t\\t\\t\\t\\tThis vehicle supports Plug & Charge \\n\\t\\t\\t\\t\\t\\t\\t\\t\\t\\t\\n\\n\\n† = Limited by charging capabilities of vehicleAutocharge: allows for automatic initiation of a charging session at supported CCS charging stations.Plug & Charge: allows for automatic initiation of a charging session at supported CCS charging stations in accordance with ISO 15118.Actual charging rates may differ from data shown due to factors like outside temperature, state of the battery and driving style.\\n\\n\\n\\n\\n\\nPreceding model\\n\\n\\t\\tThe model shown on this page is the successor of the Mercedes-Benz EQB 250+, which was available to order from January 2022 until October 2023. \\n\\t\\tThe previous model had 5 km less range, same acceleration and was similar in energy consumption.\\n\\t\\t\\n\\n\\n\\tPreceding model Mercedes-Benz EQB 250+\\t\\n\\n \\n\\n\\n(Advertisement)\\n\\n\\n\\n\\n\\n\\nMercedes-Benz EQB 250+\\nBattery Electric Vehicle\\n\\n\\n\\n\\n\\n\\n\\nARCHIVE CHEATSHEETS MISSING VEHICLES DATA SERVICES\\nCONTACT & ABOUT\\nDISCLAIMER  \\n\\n\\nEuropean Overview\\nThe Netherlands\\nUnited Kingdom\\nGermany\\n\\n\\n\\n\\n\\n\\n\\n\\n\\n\\n\\n\\n\\n\\n\\n\\n\\n\\n\\n\\n\\n\\n\\n\\n\\n\\n\\n\\n\\n\\n\\n\\n\\n\\n\\n\\n\\n\\n\\n\\n\\n\\n\\n\\n\\n\\n\\n\\n\\n\\n\\n\\n\\n\\n\\t\\t©2024 EV Database - v4.5\\n\\t\\n\\n\\n\\t\\t\\tComparing Vehicles: None\\nCompare Now\\n\\n\\n\\n\\n\""
      ]
     },
     "execution_count": 79,
     "metadata": {},
     "output_type": "execute_result"
    }
   ],
   "source": [
    "all_mercedes_info[0]"
   ]
  },
  {
   "cell_type": "code",
   "execution_count": 94,
   "metadata": {},
   "outputs": [],
   "source": [
    "summarised_merceces_info = []"
   ]
  },
  {
   "cell_type": "code",
   "execution_count": 80,
   "metadata": {},
   "outputs": [
    {
     "name": "stdout",
     "output_type": "stream",
     "text": [
      "ChatCompletionMessage(content='### Mercedes-Benz EQB 250+ (2023-2024) Price and Specifications\\n\\n- **Availability:**\\n    - Available since October 2023\\n    - Available to order in the UK since December 2023, in the Netherlands since October 2023, and in Germany since October 2023\\n\\n- **Price:**\\n    - United Kingdom: £52,800\\n    - The Netherlands: €54,966\\n    - Germany: €53,514\\n\\n- **Real Range Estimation:**\\n    - Estimated real-world range between 300 - 610 km in various conditions\\n    - City - Cold Weather: 405 km\\n    - Highway - Cold Weather: 300 km\\n    - Combined - Cold Weather: 350 km\\n    - City - Mild Weather: 610 km\\n    - Highway - Mild Weather: 385 km\\n    - Combined - Mild Weather: 480 km\\n\\n- **Performance:**\\n    - Acceleration 0 - 100 km/h: 8.9 sec\\n    - Top Speed: 160 km/h\\n    - Electric Range: 415 km\\n    - Total Power: 140 kW (190 PS)\\n    - Total Torque: 385 Nm\\n    - Drive: Front\\n\\n- **Battery:**\\n    - Nominal Capacity: 73.9 kWh\\n    - Useable Capacity: 70.5 kWh\\n    - Battery Type: Lithium-ion\\n    - Architecture: 400 V\\n    - Warranty Period: 8 years\\n    - Warranty Mileage: 160,000 km\\n\\n- **Charging:**\\n    - Home/Destination Charging:\\n        - Charge Port: Type 2\\n        - Charge Power: 11 kW AC\\n        - Charge Time (0->415 km): 7h45m\\n    - Fast Charging:\\n        - Fast Charge Port: CCS\\n        - Fast Charge Power (max): 102 kW DC\\n        - Fast Charge Power (10-80%): 90 kW DC\\n        - Fast Charge Time (41->332 km): 35 min\\n\\n- **Energy Consumption:**\\n    - EVDB Real Range:\\n        - Range: 415 km\\n        - Vehicle Consumption: 170 Wh/km\\n    - Real Energy Consumption Estimation:\\n        - City - Cold Weather: 174 Wh/km\\n        - Highway - Cold Weather: 235 Wh/km\\n        - Combined - Cold Weather: 201 Wh/km\\n        - City - Mild Weather: 116 Wh/km\\n        - Highway - Mild Weather: 183 Wh/km\\n        - Combined - Mild Weather: 147 Wh/km\\n\\n- **Dimensions and Weight:**\\n    - Length: 4684 mm\\n    - Width: 1834 mm\\n    - Height: 1667 mm\\n    - Wheelbase: 2829 mm\\n    - Weight Unladen (EU): 2105 kg\\n    - Gross Vehicle Weight (GVWR): 2540 kg\\n    - Max. Payload: 510 kg\\n\\n- **Miscellaneous:**\\n    - Seats: 7 people\\n    - Isofix: Yes, 4 seats\\n    - Turning Circle: 11.7 m\\n    - Platform: DAIMLER MFA2\\n    - Car Body: SUV\\n\\n- **Charging Information:**\\n    - Charging options in Europe listed, varying in speed and power\\n\\n- **Fast Charging Information:**\\n    - Rapid charging capabilities detailed for Europe\\n\\n- **Preceding model:**\\n    - Mercedes-Benz EQB 250+ was the predecessor, available from January 2022 until October 2023\\n\\n---\\n\\n*(Advertisement)*\\n\\nFor more detailed and specific charging information, please visit the EV Database website.\\n\\n*©2024 EV Database - v4.5*', role='assistant', function_call=None, tool_calls=None)\n"
     ]
    }
   ],
   "source": [
    "from openai import OpenAI\n",
    "client = OpenAI(api_key=\"\")\n",
    "\n",
    "for car in all_mercedes_info:\n",
    "\n",
    "  completion = client.chat.completions.create(\n",
    "    model=\"gpt-3.5-turbo\",\n",
    "    messages=[\n",
    "      {\"role\": \"system\", \"content\": \"You are an assistant to organise the given information\"},\n",
    "      {\"role\": \"user\", \"content\": \"Can you please organise the following text\"+car}\n",
    "    ]\n",
    "  )\n",
    "  summarised_merceces_info.append(completion.choices[0].message.content)"
   ]
  }
 ],
 "metadata": {
  "kernelspec": {
   "display_name": "lmu310",
   "language": "python",
   "name": "python3"
  },
  "language_info": {
   "codemirror_mode": {
    "name": "ipython",
    "version": 3
   },
   "file_extension": ".py",
   "mimetype": "text/x-python",
   "name": "python",
   "nbconvert_exporter": "python",
   "pygments_lexer": "ipython3",
   "version": "3.10.9"
  }
 },
 "nbformat": 4,
 "nbformat_minor": 2
}
