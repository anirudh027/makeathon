{
 "cells": [
  {
   "cell_type": "code",
   "execution_count": 1,
   "metadata": {},
   "outputs": [],
   "source": [
    "from langchain.agents.openai_assistant import OpenAIAssistantRunnable\n",
    "from langchain_community.tools import DuckDuckGoSearchRun, GoogleSearchRun, FileSearchTool\n"
   ]
  },
  {
   "cell_type": "code",
   "execution_count": 12,
   "metadata": {},
   "outputs": [
    {
     "name": "stdout",
     "output_type": "stream",
     "text": [
      "Requirement already satisfied: langchain in c:\\users\\vishw\\anaconda3\\lib\\site-packages (0.1.16)\n",
      "Requirement already satisfied: PyYAML>=5.3 in c:\\users\\vishw\\anaconda3\\lib\\site-packages (from langchain) (6.0.1)\n",
      "Requirement already satisfied: SQLAlchemy<3,>=1.4 in c:\\users\\vishw\\anaconda3\\lib\\site-packages (from langchain) (2.0.29)\n",
      "Requirement already satisfied: aiohttp<4.0.0,>=3.8.3 in c:\\users\\vishw\\anaconda3\\lib\\site-packages (from langchain) (3.9.5)\n",
      "Requirement already satisfied: dataclasses-json<0.7,>=0.5.7 in c:\\users\\vishw\\anaconda3\\lib\\site-packages (from langchain) (0.6.1)\n",
      "Requirement already satisfied: jsonpatch<2.0,>=1.33 in c:\\users\\vishw\\anaconda3\\lib\\site-packages (from langchain) (1.33)\n",
      "Requirement already satisfied: langchain-community<0.1,>=0.0.32 in c:\\users\\vishw\\anaconda3\\lib\\site-packages (from langchain) (0.0.34)\n",
      "Requirement already satisfied: langchain-core<0.2.0,>=0.1.42 in c:\\users\\vishw\\anaconda3\\lib\\site-packages (from langchain) (0.1.46)\n",
      "Requirement already satisfied: langchain-text-splitters<0.1,>=0.0.1 in c:\\users\\vishw\\anaconda3\\lib\\site-packages (from langchain) (0.0.1)\n",
      "Requirement already satisfied: langsmith<0.2.0,>=0.1.17 in c:\\users\\vishw\\anaconda3\\lib\\site-packages (from langchain) (0.1.51)\n",
      "Requirement already satisfied: numpy<2,>=1 in c:\\users\\vishw\\anaconda3\\lib\\site-packages (from langchain) (1.24.3)\n",
      "Requirement already satisfied: pydantic<3,>=1 in c:\\users\\vishw\\anaconda3\\lib\\site-packages (from langchain) (1.10.13)\n",
      "Requirement already satisfied: requests<3,>=2 in c:\\users\\vishw\\anaconda3\\lib\\site-packages (from langchain) (2.31.0)\n",
      "Requirement already satisfied: tenacity<9.0.0,>=8.1.0 in c:\\users\\vishw\\anaconda3\\lib\\site-packages (from langchain) (8.2.3)\n",
      "Requirement already satisfied: aiosignal>=1.1.2 in c:\\users\\vishw\\anaconda3\\lib\\site-packages (from aiohttp<4.0.0,>=3.8.3->langchain) (1.2.0)\n",
      "Requirement already satisfied: attrs>=17.3.0 in c:\\users\\vishw\\anaconda3\\lib\\site-packages (from aiohttp<4.0.0,>=3.8.3->langchain) (23.1.0)\n",
      "Requirement already satisfied: frozenlist>=1.1.1 in c:\\users\\vishw\\anaconda3\\lib\\site-packages (from aiohttp<4.0.0,>=3.8.3->langchain) (1.3.3)\n",
      "Requirement already satisfied: multidict<7.0,>=4.5 in c:\\users\\vishw\\anaconda3\\lib\\site-packages (from aiohttp<4.0.0,>=3.8.3->langchain) (6.0.2)\n",
      "Requirement already satisfied: yarl<2.0,>=1.0 in c:\\users\\vishw\\anaconda3\\lib\\site-packages (from aiohttp<4.0.0,>=3.8.3->langchain) (1.8.1)\n",
      "Requirement already satisfied: marshmallow<4.0.0,>=3.18.0 in c:\\users\\vishw\\anaconda3\\lib\\site-packages (from dataclasses-json<0.7,>=0.5.7->langchain) (3.20.1)\n",
      "Requirement already satisfied: typing-inspect<1,>=0.4.0 in c:\\users\\vishw\\anaconda3\\lib\\site-packages (from dataclasses-json<0.7,>=0.5.7->langchain) (0.9.0)\n",
      "Requirement already satisfied: jsonpointer>=1.9 in c:\\users\\vishw\\anaconda3\\lib\\site-packages (from jsonpatch<2.0,>=1.33->langchain) (2.1)\n",
      "Requirement already satisfied: packaging<24.0,>=23.2 in c:\\users\\vishw\\anaconda3\\lib\\site-packages (from langchain-core<0.2.0,>=0.1.42->langchain) (23.2)\n",
      "Requirement already satisfied: orjson<4.0.0,>=3.9.14 in c:\\users\\vishw\\anaconda3\\lib\\site-packages (from langsmith<0.2.0,>=0.1.17->langchain) (3.10.1)\n",
      "Requirement already satisfied: typing-extensions>=4.2.0 in c:\\users\\vishw\\anaconda3\\lib\\site-packages (from pydantic<3,>=1->langchain) (4.11.0)\n",
      "Requirement already satisfied: charset-normalizer<4,>=2 in c:\\users\\vishw\\anaconda3\\lib\\site-packages (from requests<3,>=2->langchain) (2.0.4)\n",
      "Requirement already satisfied: idna<4,>=2.5 in c:\\users\\vishw\\anaconda3\\lib\\site-packages (from requests<3,>=2->langchain) (3.4)\n",
      "Requirement already satisfied: urllib3<3,>=1.21.1 in c:\\users\\vishw\\anaconda3\\lib\\site-packages (from requests<3,>=2->langchain) (1.26.16)\n",
      "Requirement already satisfied: certifi>=2017.4.17 in c:\\users\\vishw\\anaconda3\\lib\\site-packages (from requests<3,>=2->langchain) (2024.2.2)\n",
      "Requirement already satisfied: greenlet!=0.4.17 in c:\\users\\vishw\\anaconda3\\lib\\site-packages (from SQLAlchemy<3,>=1.4->langchain) (2.0.1)\n",
      "Requirement already satisfied: mypy-extensions>=0.3.0 in c:\\users\\vishw\\anaconda3\\lib\\site-packages (from typing-inspect<1,>=0.4.0->dataclasses-json<0.7,>=0.5.7->langchain) (0.4.3)\n",
      "Note: you may need to restart the kernel to use updated packages.\n"
     ]
    }
   ],
   "source": [
    "pip install --upgrade langchain"
   ]
  },
  {
   "cell_type": "code",
   "execution_count": 3,
   "metadata": {},
   "outputs": [],
   "source": [
    "tools = [DuckDuckGoSearchRun()]"
   ]
  },
  {
   "cell_type": "code",
   "execution_count": 6,
   "metadata": {},
   "outputs": [
    {
     "ename": "TypeError",
     "evalue": "Assistants.create() got an unexpected keyword argument 'file_ids'",
     "output_type": "error",
     "traceback": [
      "\u001b[1;31m---------------------------------------------------------------------------\u001b[0m",
      "\u001b[1;31mTypeError\u001b[0m                                 Traceback (most recent call last)",
      "Cell \u001b[1;32mIn[6], line 1\u001b[0m\n\u001b[1;32m----> 1\u001b[0m agent \u001b[38;5;241m=\u001b[39m \u001b[43mOpenAIAssistantRunnable\u001b[49m\u001b[38;5;241;43m.\u001b[39;49m\u001b[43mcreate_assistant\u001b[49m\u001b[43m(\u001b[49m\n\u001b[0;32m      2\u001b[0m \u001b[43m    \u001b[49m\u001b[43mname\u001b[49m\u001b[38;5;241;43m=\u001b[39;49m\u001b[38;5;124;43m\"\u001b[39;49m\u001b[38;5;124;43mWeb Search Assistant\u001b[39;49m\u001b[38;5;124;43m\"\u001b[39;49m\u001b[43m,\u001b[49m\n\u001b[0;32m      3\u001b[0m \u001b[43m    \u001b[49m\u001b[43minstructions\u001b[49m\u001b[38;5;241;43m=\u001b[39;49m\u001b[38;5;124;43m\"\u001b[39;49m\u001b[38;5;124;43mYou are a marketing assistant that helps people with information about mercedes e-cars.\u001b[39;49m\u001b[38;5;124;43m\"\u001b[39;49m\u001b[43m,\u001b[49m\n\u001b[0;32m      4\u001b[0m \u001b[43m    \u001b[49m\u001b[43mtools\u001b[49m\u001b[38;5;241;43m=\u001b[39;49m\u001b[43mtools\u001b[49m\u001b[43m,\u001b[49m\n\u001b[0;32m      5\u001b[0m \u001b[43m    \u001b[49m\u001b[43mmodel\u001b[49m\u001b[38;5;241;43m=\u001b[39;49m\u001b[38;5;124;43m\"\u001b[39;49m\u001b[38;5;124;43mgpt-4-1106-preview\u001b[39;49m\u001b[38;5;124;43m\"\u001b[39;49m\u001b[43m,\u001b[49m\n\u001b[0;32m      6\u001b[0m \u001b[43m    \u001b[49m\u001b[43mas_agent\u001b[49m\u001b[38;5;241;43m=\u001b[39;49m\u001b[38;5;28;43;01mTrue\u001b[39;49;00m\u001b[43m,\u001b[49m\n\u001b[0;32m      7\u001b[0m \u001b[43m    \u001b[49m\u001b[43mfile_ids\u001b[49m\u001b[38;5;241;43m=\u001b[39;49m\u001b[38;5;28;43;01mNone\u001b[39;49;00m\u001b[43m,\u001b[49m\n\u001b[0;32m      8\u001b[0m \u001b[43m)\u001b[49m\n",
      "File \u001b[1;32mc:\\Users\\vishw\\anaconda3\\Lib\\site-packages\\langchain\\agents\\openai_assistant\\base.py:247\u001b[0m, in \u001b[0;36mOpenAIAssistantRunnable.create_assistant\u001b[1;34m(cls, name, instructions, tools, model, client, **kwargs)\u001b[0m\n\u001b[0;32m    233\u001b[0m \u001b[38;5;250m\u001b[39m\u001b[38;5;124;03m\"\"\"Create an OpenAI Assistant and instantiate the Runnable.\u001b[39;00m\n\u001b[0;32m    234\u001b[0m \n\u001b[0;32m    235\u001b[0m \u001b[38;5;124;03mArgs:\u001b[39;00m\n\u001b[1;32m   (...)\u001b[0m\n\u001b[0;32m    244\u001b[0m \u001b[38;5;124;03m    OpenAIAssistantRunnable configured to run using the created assistant.\u001b[39;00m\n\u001b[0;32m    245\u001b[0m \u001b[38;5;124;03m\"\"\"\u001b[39;00m\n\u001b[0;32m    246\u001b[0m client \u001b[38;5;241m=\u001b[39m client \u001b[38;5;129;01mor\u001b[39;00m _get_openai_client()\n\u001b[1;32m--> 247\u001b[0m assistant \u001b[38;5;241m=\u001b[39m \u001b[43mclient\u001b[49m\u001b[38;5;241;43m.\u001b[39;49m\u001b[43mbeta\u001b[49m\u001b[38;5;241;43m.\u001b[39;49m\u001b[43massistants\u001b[49m\u001b[38;5;241;43m.\u001b[39;49m\u001b[43mcreate\u001b[49m\u001b[43m(\u001b[49m\n\u001b[0;32m    248\u001b[0m \u001b[43m    \u001b[49m\u001b[43mname\u001b[49m\u001b[38;5;241;43m=\u001b[39;49m\u001b[43mname\u001b[49m\u001b[43m,\u001b[49m\n\u001b[0;32m    249\u001b[0m \u001b[43m    \u001b[49m\u001b[43minstructions\u001b[49m\u001b[38;5;241;43m=\u001b[39;49m\u001b[43minstructions\u001b[49m\u001b[43m,\u001b[49m\n\u001b[0;32m    250\u001b[0m \u001b[43m    \u001b[49m\u001b[43mtools\u001b[49m\u001b[38;5;241;43m=\u001b[39;49m\u001b[43m[\u001b[49m\u001b[43m_get_assistants_tool\u001b[49m\u001b[43m(\u001b[49m\u001b[43mtool\u001b[49m\u001b[43m)\u001b[49m\u001b[43m \u001b[49m\u001b[38;5;28;43;01mfor\u001b[39;49;00m\u001b[43m \u001b[49m\u001b[43mtool\u001b[49m\u001b[43m \u001b[49m\u001b[38;5;129;43;01min\u001b[39;49;00m\u001b[43m \u001b[49m\u001b[43mtools\u001b[49m\u001b[43m]\u001b[49m\u001b[43m,\u001b[49m\u001b[43m  \u001b[49m\u001b[38;5;66;43;03m# type: ignore\u001b[39;49;00m\n\u001b[0;32m    251\u001b[0m \u001b[43m    \u001b[49m\u001b[43mmodel\u001b[49m\u001b[38;5;241;43m=\u001b[39;49m\u001b[43mmodel\u001b[49m\u001b[43m,\u001b[49m\n\u001b[0;32m    252\u001b[0m \u001b[43m    \u001b[49m\u001b[43mfile_ids\u001b[49m\u001b[38;5;241;43m=\u001b[39;49m\u001b[43mkwargs\u001b[49m\u001b[38;5;241;43m.\u001b[39;49m\u001b[43mget\u001b[49m\u001b[43m(\u001b[49m\u001b[38;5;124;43m\"\u001b[39;49m\u001b[38;5;124;43mfile_ids\u001b[39;49m\u001b[38;5;124;43m\"\u001b[39;49m\u001b[43m)\u001b[49m\u001b[43m,\u001b[49m\n\u001b[0;32m    253\u001b[0m \u001b[43m\u001b[49m\u001b[43m)\u001b[49m\n\u001b[0;32m    254\u001b[0m \u001b[38;5;28;01mreturn\u001b[39;00m \u001b[38;5;28mcls\u001b[39m(assistant_id\u001b[38;5;241m=\u001b[39massistant\u001b[38;5;241m.\u001b[39mid, client\u001b[38;5;241m=\u001b[39mclient, \u001b[38;5;241m*\u001b[39m\u001b[38;5;241m*\u001b[39mkwargs)\n",
      "\u001b[1;31mTypeError\u001b[0m: Assistants.create() got an unexpected keyword argument 'file_ids'"
     ]
    }
   ],
   "source": [
    "agent = OpenAIAssistantRunnable.create_assistant(\n",
    "    name=\"Web Search Assistant\",\n",
    "    instructions=\"You are a marketing assistant that helps people with information about mercedes e-cars.\",\n",
    "    tools=tools,\n",
    "    model=\"gpt-4-1106-preview\",\n",
    "    as_agent=True,\n",
    "    file_ids=None,\n",
    ")"
   ]
  },
  {
   "cell_type": "markdown",
   "metadata": {},
   "source": [
    "## Completion"
   ]
  },
  {
   "cell_type": "code",
   "execution_count": 6,
   "metadata": {},
   "outputs": [],
   "source": [
    "from langchain_openai import ChatOpenAI\n",
    "from langchain import hub\n",
    "from langchain.agents import AgentExecutor, create_openai_tools_agent\n",
    "from langchain_core.messages import HumanMessage\n",
    "from langchain_core.utils.function_calling import convert_to_openai_function\n",
    "from langchain_community.tools import DuckDuckGoSearchRun, GoogleSearchRun, FileSearchTool\n",
    "from langchain.retrievers.web_research import WebResearchRetriever\n",
    "from langchain.chains import ConversationalRetrievalChain, RetrievalQAWithSourcesChain, ConversationChain\n",
    "from langchain_core.output_parsers.openai_tools import PydanticToolsParser\n",
    "from langchain_community.vectorstores import FAISS\n",
    "from langchain_openai import OpenAIEmbeddings\n",
    "from langchain_text_splitters import CharacterTextSplitter\n",
    "from langchain.tools.retriever import create_retriever_tool\n",
    "from langchain_community.document_loaders import PyPDFLoader, TextLoader\n",
    "from langchain_core.messages import AIMessage, HumanMessage, SystemMessage\n",
    "from langchain_core.tools import tool\n",
    "from langchain_core.pydantic_v1 import BaseModel, Field\n",
    "\n"
   ]
  },
  {
   "cell_type": "markdown",
   "metadata": {},
   "source": [
    "### RAG"
   ]
  },
  {
   "cell_type": "code",
   "execution_count": 5,
   "metadata": {},
   "outputs": [],
   "source": [
    "import sys\n",
    "sys.path.append('./utils/')\n",
    "from gpt_tools import *\n",
    "from sqlite_utils import *"
   ]
  },
  {
   "cell_type": "code",
   "execution_count": 6,
   "metadata": {},
   "outputs": [],
   "source": [
    "# loader = PyPDFLoader(\"./mercedes-data.pdf\")\n",
    "# documents  = loader.load()\n",
    "\n",
    "# text_splitter = CharacterTextSplitter(chunk_size=1000, chunk_overlap=0)\n",
    "# texts = text_splitter.split_documents(documents)\n",
    "# embeddings = OpenAIEmbeddings()\n",
    "# db = FAISS.from_documents(texts, embeddings)\n",
    "# retriever = db.as_retriever()"
   ]
  },
  {
   "cell_type": "code",
   "execution_count": 7,
   "metadata": {},
   "outputs": [],
   "source": [
    "load_profile(USER_ID)"
   ]
  },
  {
   "cell_type": "code",
   "execution_count": 8,
   "metadata": {},
   "outputs": [],
   "source": [
    "def refresh_user_data(USER_ID):\n",
    "    \n",
    "    global TOOLS, persona_rag, similar_history_rag, update_persona\n",
    "    persona_to_text(USER_ID,'user_persona')\n",
    "    ## Converting to db\n",
    "    persona = TextLoader(\"user_persona.txt\")\n",
    "    persona = persona.load()\n",
    "    text_splitter = CharacterTextSplitter(chunk_size=1000, chunk_overlap=0)\n",
    "    persona_texts = text_splitter.split_documents(persona)\n",
    "    persona_db = FAISS.from_documents(persona_texts, embeddings)\n",
    "\n",
    "    persona_retriever = persona_db.as_retriever()\n",
    "    persona_rag = create_retriever_tool(\n",
    "        persona_retriever,\n",
    "        \"user_persona\",\n",
    "        \"User persona\",\n",
    "    )\n",
    "\n",
    "\n",
    "    ## Gathering Neighbors\n",
    "    similar_account = get_similarity(USER_ID)\n",
    "    top = sorted(list(similar_account.keys()), key=lambda x: similar_account[x], reverse=True)[:2]\n",
    "    history_to_text(top,'similar_history')\n",
    "\n",
    "    similar_history = TextLoader(\"similar_history.txt\")\n",
    "    similar_history = similar_history.load()\n",
    "    text_splitter = CharacterTextSplitter(chunk_size=1000, chunk_overlap=0)\n",
    "    similar_history_texts = text_splitter.split_documents(similar_history)\n",
    "    similar_history_db = FAISS.from_documents(similar_history_texts, embeddings)\n",
    "\n",
    "    similar_history_retriever = similar_history_db.as_retriever()\n",
    "    similar_history_rag = create_retriever_tool(\n",
    "        similar_history_retriever,\n",
    "        \"similar_history\",\n",
    "        \"Similar user history\",\n",
    "    )\n",
    "\n",
    "    TOOLS = [DuckDuckGoSearchRun(), static_rag, persona_rag, update_persona]\n",
    "\n",
    "class Persona(BaseModel):\n",
    "    Demographics: str = Field(default=None, description=\"This encompasses various personal attributes and characteristics that describe an individual or group. It includes information about their gender, age or age group, marital status, and details about their children, such as the number and their ages. It also takes into account their profession, current economic standing, and potential for career growth. The location is also a key factor, covering the type of region they reside in, whether rural or urban, as well as the country they live in. Additionally, it examines their vehicle ownership history, indicating the number and types of vehicles, with a focus on whether they prefer luxury modern executive, compact SUVs or mid-range cars or used cars. It should also include what price of car they prefer. Finally, this description includes the percentage of the overall customer base that this group represents.\")\n",
    "    Customer_Experience: str = Field(default=None, description=\"This captures the diverse ways customers engage with a brand throughout their journey, highlighting a range of preferences, behaviors, and touchpoints. It assesses whether customers lean toward digital communication or traditional transaction methods. Brand loyalty can play a role in this, leading some customers to request minimal information during their purchases. The preferred mode of communication for service bookings, such as digital channels, phone calls, or direct clicks, is also considered. Additionally, it notes whether customers appreciate pick-up service options, whether are inclined to adopt service contracts when purchasing a car. This approach provides a comprehensive understanding of how customers interact with a brand, ensuring that their unique needs and preferences are met.\")\n",
    "    Psychology: str = Field(default=None, description=\"This outlines a customer's mindset, focusing on their price sensitivity, passion for cars, and attitude toward spending. It captures whether they follow traditional approaches, are price-sensitive but value quality, and whether they are open to luxury and convenience, showing a willingness to invest in higher-end products. It considers their appetite for financial risk, distinguishing those who prefer reliable, well-known brands from those more adventurous with newer brands. The description also evaluates their buying behavior, noting whether they are impulsive shoppers swayed by societal trends or those who prioritize brand prestige, maintenance, and resale value over simple status symbols. Additionally, it observes whether customers use cars as basic transportation or as a display of status. This information also includes their digital savvy, eco-friendliness, and willingness to pay for sustainable options. It further considers their hobbies and whether they are loyal to established brands or open to exploring newer ones.\")\n",
    "    Marketing_Implications: str = Field(default=None, description=\"This decribes the positioning strategies of what the customer is attracted to. High-end luxury targets the elite market, while premium with a digital flair appeals to modern, tech-savvy consumers. It might offer a mix of digital and personalised services. The focus on premium emphasizes high quality, and the value strategy attracts budget-conscious customers who want services at a fair price without unnecessary frills.\")\n",
    "    \n",
    "@tool(\"update_persona\", args_schema=Persona, return_direct=False)\n",
    "def update_persona(Demographics: str  = None, Customer_Experience: str = None, Psychology: str = None, Marketing_Implications: str  = None) -> None:\n",
    "    \"\"\"\n",
    "    Get information of a user and make a persona by dividing the information into Demographics, Customer Experience, Psychology and Marketing Implications according to the way each of them are described. Used to update the current database and should be called whenever you get info about any parameters. All parameters need not be passed to call this.\n",
    "    \"\"\"\n",
    "    if Demographics is not None:\n",
    "        append_to_profile_column(USER_ID, 'demographics', Demographics)\n",
    "\n",
    "    if Customer_Experience is not None:\n",
    "        append_to_profile_column(USER_ID, 'experience', Customer_Experience)\n",
    "\n",
    "    if Psychology is not None:\n",
    "        append_to_profile_column(USER_ID, 'psychology', Psychology)\n",
    "\n",
    "    if Marketing_Implications is not None:  \n",
    "        append_to_profile_column(USER_ID, 'marketing', Marketing_Implications)\n",
    "\n",
    "    ## update the user persona\n",
    "    refresh_user_data(USER_ID)\n",
    "\n",
    "    print(\"Tools updated\")\n"
   ]
  },
  {
   "cell_type": "code",
   "execution_count": 9,
   "metadata": {},
   "outputs": [],
   "source": [
    "embeddings = OpenAIEmbeddings()\n",
    "db = FAISS.load_local(\"mercedes_db/\", embeddings, allow_dangerous_deserialization=True)\n",
    "retriever = db.as_retriever()\n",
    "static_rag = create_retriever_tool(\n",
    "    retriever,\n",
    "    \"mercedes_e_cars_specs\",\n",
    "    \"Information about mercedes electric cars and their specifications\",\n",
    ")"
   ]
  },
  {
   "cell_type": "code",
   "execution_count": 10,
   "metadata": {},
   "outputs": [],
   "source": [
    "persona_rag= None\n",
    "similar_history_rag = None\n",
    "TOOLS = [DuckDuckGoSearchRun(), static_rag, persona_rag, similar_history_rag, update_persona]"
   ]
  },
  {
   "cell_type": "code",
   "execution_count": 11,
   "metadata": {},
   "outputs": [
    {
     "name": "stdout",
     "output_type": "stream",
     "text": [
      "User already exists\n"
     ]
    },
    {
     "name": "stderr",
     "output_type": "stream",
     "text": [
      "c:\\Users\\vishw\\anaconda3\\Lib\\site-packages\\numpy\\core\\fromnumeric.py:3464: RuntimeWarning: Mean of empty slice.\n",
      "  return _methods._mean(a, axis=axis, dtype=dtype,\n",
      "c:\\Users\\vishw\\anaconda3\\Lib\\site-packages\\numpy\\core\\_methods.py:192: RuntimeWarning: invalid value encountered in scalar divide\n",
      "  ret = ret.dtype.type(ret / rcount)\n"
     ]
    }
   ],
   "source": [
    "## Getting the persona\n",
    "USER_ID = 'vishwa20@outlook.com'\n",
    "add_user(USER_ID, '123')\n",
    "refresh_user_data(USER_ID)"
   ]
  },
  {
   "cell_type": "code",
   "execution_count": 12,
   "metadata": {},
   "outputs": [],
   "source": [
    "llm = ChatOpenAI(\n",
    "    model=\"gpt-4\",\n",
    "    max_tokens=500,\n",
    "    max_retries=10,\n",
    "    )\n",
    "# Creating the retriever\n",
    "prompt = hub.pull(\"hwchase17/openai-tools-agent\")\n",
    "agent = create_openai_tools_agent(llm, TOOLS, prompt)\n",
    "agent_executor = AgentExecutor(agent=agent, tools=TOOLS, verbose=True)\n",
    "\n"
   ]
  },
  {
   "cell_type": "code",
   "execution_count": 13,
   "metadata": {},
   "outputs": [],
   "source": [
    "MESSAGES = [SystemMessage(content=\"This will assist customers to buy an electric car that will recommend only Mercedes cars. Your focus is giving concise answers and making a sale. You need to use the file 'user_persona' to identify their needs. These needs need to be updated frequently.\\\n",
    "                          The 'update_persona' function will be called whenever it gets information that needs to be added to any one of the four categories namely, Demographics, Customer Experience, Psychology and Marketing Implications. Anytime a personal information or preference comes, check if it needs to be updated. Then look up the answer in the user_persona document.\\\n",
    "                          The 'summarize_chat' function will be called at the end of the chat to summarize all the information regarding the entire conversation. There will be the suggestions provided by the bot and corresponding to each of them there has to be a reaction recorded as in whether the customer had a positive or negative reaction. Give negative responses to the cars that the customer does not talk about when suggested. Each of the suggestions and the reactions should be in separate lines, preferably in bullet points.\\\n",
    "                          Do not ask many questions. Do not tell the user that the function has been called. Do not mention the source pdf from where it is getting the information.\")]"
   ]
  },
  {
   "cell_type": "code",
   "execution_count": 15,
   "metadata": {},
   "outputs": [
    {
     "name": "stdout",
     "output_type": "stream",
     "text": [
      "\n",
      "\n",
      "\u001b[1m> Entering new AgentExecutor chain...\u001b[0m\n",
      "\u001b[32;1m\u001b[1;3m\n",
      "Invoking: `user_persona` with `{'query': 'budget friendly'}`\n",
      "\n",
      "\n",
      "\u001b[0m\u001b[38;5;200m\u001b[1;3mEmail: vishwa20@outlook.com\n",
      "Demographics: None\n",
      "\n",
      "Psychology: None\n",
      "\n",
      "Experience: None\n",
      "\n",
      "Marketing: None\n",
      "\n",
      "History: None\u001b[0m\u001b[32;1m\u001b[1;3m\n",
      "Invoking: `mercedes_e_cars_specs` with `{'query': 'budget friendly'}`\n",
      "\n",
      "\n",
      "\u001b[0m\u001b[33;1m\u001b[1;3m- Weight Unladen: 2630 kg  \n",
      "  - Seats: 8 people  \n",
      "- **Miscellaneous:**  \n",
      "  - Cargo Volume: 990 L (Max 4630 L)  \n",
      "  - Towing: Not available  \n",
      "  - Heat pump: Not available  \n",
      "  - Roof Rails: Yes  \n",
      "  \n",
      "**Pricing:**  \n",
      "- **Price:**  \n",
      "  - United Kingdom: Not Available  \n",
      "  - The Netherlands: €84,773  \n",
      "  - Germany: €72,043  \n",
      "- **Available to Order:**  \n",
      "  - United Kingdom: Not Available  \n",
      "  - The Netherlands: Since February 2024  \n",
      "  - Germany: Since February 2024  \n",
      "  \n",
      "**Energy & Fuel Efficiency:**  \n",
      "- **Energy Consumption:**  \n",
      "  - EVDB Real Range: 320 km  \n",
      "  - Vehicle Consumption: 281 Wh/km  \n",
      "- **WLTP Ratings:**  \n",
      "  - Range: 381 km  \n",
      "  - Rated Consumption: 259 Wh/km  \n",
      "  \n",
      "**Charging Information:**  \n",
      "- **Home and Destination Charging (0 -> 100%):**  \n",
      "  - Various charging options and times are provided based on power levels.  \n",
      "- **Fast Charging (10 -> 80%):**  \n",
      "  - Rapid charging details, including max power, time, and rate.  \n",
      "  \n",
      "Car number - 33.  \n",
      " 1. **Vehicle Information:**  \n",
      "   - **Model:** Mercedes-Benz EQE SUV AMG 43 4MATIC  \n",
      "   - **Availability:** Available since December 2022  \n",
      "   - **Price (in EUR):**  \n",
      "     - The Netherlands: €130,791  \n",
      "     - Germany: €124,920  \n",
      "   - **Real Range:**  \n",
      "     - City - Cold Weather: 415 km  \n",
      "     - Highway - Cold Weather: 305 km  \n",
      "     - Combined - Cold Weather: 355 km  \n",
      "     - City - Mild Weather: 595 km  \n",
      "     - Highway - Mild Weather: 385 km  \n",
      "     - Combined - Mild Weather: 470 km  \n",
      "   - **Acceleration 0-100 km/h:** 4.3 sec  \n",
      "   - **Top Speed:** 210 km/h  \n",
      "   - **Total Power:** 350 kW (476 PS)  \n",
      "   - **Total Torque:** 858 Nm  \n",
      "   - **Drive:** AWD  \n",
      "   - **Nominal Battery Capacity:** 100.0 kWh  \n",
      "   - **Useable Battery Capacity:** 90.6 kWh  \n",
      "   - **Charging:**  \n",
      "     - **Home/Destination Charge Port:** Type 2, 22 kW AC\n",
      "\n",
      "- **Price**  \n",
      "  - United Kingdom: Not Available  \n",
      "  - The Netherlands: €111,068  \n",
      "  - Germany: €104,756  \n",
      "  \n",
      "- **Battery**  \n",
      "  - Nominal Capacity: 100.0 kWh  \n",
      "  - Useable Battery: 90.6 kWh  \n",
      "  - Battery Type: Lithium-ion  \n",
      "  - Number of Cells: 360  \n",
      "  - Architecture: 400 V  \n",
      "  - Warranty Period: 10 years  \n",
      "  - Warranty Mileage: 250,000 km  \n",
      "  \n",
      "- **Charging**  \n",
      "  - Home/Destination Charging  \n",
      "    - Charge Port: Type 2  \n",
      "    - Charge Power: 11 kW AC  \n",
      "    - Charge Time (0->450 km): 9h45m  \n",
      "    - Charge Speed: 46 km/h  \n",
      "  - Fast Charging  \n",
      "    - Fastcharge Port: CCS  \n",
      "    - Fastcharge Power (max): 173 kW DC  \n",
      "    - Fastcharge Power (10-80%): 142 kW DC  \n",
      "    - Fastcharge Time (45->360 km): 28 min  \n",
      "    - Fastcharge Speed: 670 km/h  \n",
      "  \n",
      "- **Performance**  \n",
      "  - Acceleration 0-100 km/h: 4.2 sec  \n",
      "  - Top Speed: 210 km/h  \n",
      "  - Electric Range: 450 km  \n",
      "  - Total Power: 350 kW (476 PS)  \n",
      "  - Total Torque: 858 Nm  \n",
      "  - Drive: AWD  \n",
      "  \n",
      "- **Range**  \n",
      "  - Real Range: 330-640 km  \n",
      "  \n",
      "- **Energy Consumption**  \n",
      "  - EVDB Real Range: 450 km  \n",
      "  - Vehicle Consumption: 201 Wh/km  \n",
      "  - CO2 Emissions: 0 g/km  \n",
      "  \n",
      "- **Safety (Euro NCAP)**  \n",
      "  - Safety Ratings:   \n",
      "    - Adult Occupant: 95%  \n",
      "    - Child Occupant: 91%  \n",
      "    - Vulnerable Road Users: 83%  \n",
      "    - Safety Assist: 81%  \n",
      "  - Rating Year: 2022  \n",
      "  \n",
      "- **Dimensions and Weight**  \n",
      "  - Length: 4964 mm  \n",
      "  - Width: 1906 mm  \n",
      "  - Height: 1493 mm\n",
      "\n",
      "- **Price**:  \n",
      "   - United Kingdom: Not Available  \n",
      "   - The Netherlands: €83,480  \n",
      "   - Germany: €83,479  \n",
      "  \n",
      "- **Availability**:  \n",
      "   - Available since October 2023 in Germany and since January 2024 in The Netherlands  \n",
      "   - Not available in the United Kingdom  \n",
      "  \n",
      "- **Real Range Estimation**:  \n",
      "   - Between 325 - 645 km  \n",
      "  \n",
      "- **Performance**:  \n",
      "   - Acceleration 0 - 100 km/h: 7.6 sec  \n",
      "   - Top Speed: 210 km/h  \n",
      "   - Electric Range: 450 km  \n",
      "   - Total Power: 180 kW (245 PS)  \n",
      "   - Total Torque: 550 Nm  \n",
      "   - Drive: Rear  \n",
      "  \n",
      "- **Battery**:  \n",
      "   - Nominal Capacity: 100.0 kWh  \n",
      "   - Useable Capacity: 90.6 kWh  \n",
      "   - Battery Type: Lithium-ion  \n",
      "   - Charging Port: Type 2  \n",
      "   - Charge Power: 11 kW AC  \n",
      "   - Fastcharge Power (max): 170 kW DC  \n",
      "   - Fastcharge Time (45->360 km): 33 min  \n",
      "  \n",
      "- **Energy Consumption**:  \n",
      "   - Range: 450 km  \n",
      "   - Vehicle Consumption: 201 Wh/km  \n",
      "  \n",
      "- **Safety (Euro NCAP)**:  \n",
      "   - Safety Rating:   \n",
      "     - Adult Occupant: 87%  \n",
      "     - Child Occupant: 90%  \n",
      "     - Vulnerable Road Users: 80%  \n",
      "     - Safety Assist: 85%  \n",
      "     \n",
      "- **Dimensions and Weight**:  \n",
      "   - Length: 4863 mm  \n",
      "   - Width: 1940 mm  \n",
      "   - Height: 1685 mm  \n",
      "   - Wheelbase: 3030 mm  \n",
      "   - Weight Unladen (EU): 2440 kg  \n",
      "   - Cargo Volume: 520 L  \n",
      "  \n",
      "- **Charging**:  \n",
      "   - Standard Charger: 11 kW On-Board Charger  \n",
      "   - Fast Charging (10 -> 80%):  \n",
      "      - CCS (50 kW DC): 50 kW, 80 min  \n",
      "  \n",
      "- **Miscellaneous**:\n",
      "\n",
      "- Available since February 2024  \n",
      "  \n",
      "- Real Range Estimation:  \n",
      "  - City - Cold Weather: 225 km  \n",
      "  - Highway - Cold Weather: 150 km  \n",
      "  - Combined - Cold Weather: 185 km  \n",
      "  - City - Mild Weather: 310 km  \n",
      "  - Highway - Mild Weather: 185 km  \n",
      "  - Combined - Mild Weather: 235 km  \n",
      "  *Real Range: 215 km  \n",
      "  *Efficiency: 279 Wh/km  \n",
      "  \n",
      "- Performance:  \n",
      "  - Acceleration 0 - 100 km/h: 12.0 sec  \n",
      "  - Top Speed: 160 km/h  \n",
      "  - Total Power: 150 kW (204 PS)  \n",
      "  - Total Torque: 365 Nm  \n",
      "  - Drive: Front  \n",
      "  \n",
      "- Battery:  \n",
      "  - Nominal Capacity: 66.0 kWh  \n",
      "  - Useable Capacity: 60.0 kWh  \n",
      "  - Battery Type: Lithium-ion  \n",
      "  - Charge Port: Type 2  \n",
      "  - Charge Power: 11 kW AC  \n",
      "  - Fastcharge Power (max): 80 kW DC  \n",
      "  - Fastcharge Time (21->172 km): 44 min  \n",
      "  - Fastcharge Speed: 200 km/h  \n",
      "  \n",
      "- Energy Consumption:  \n",
      "  - Real Energy Consumption Estimation:  \n",
      "    - City - Cold Weather: 267 Wh/km  \n",
      "    - Highway - Cold Weather: 400 Wh/km  \n",
      "    - Combined - Cold Weather: 324 Wh/km  \n",
      "    - City - Mild Weather: 194 Wh/kM  \n",
      "    - Highway - Mild Weather: 324 Wh/km  \n",
      "    - Combined - Mild Weather: 255 Wh/km  \n",
      "  \n",
      "- WLTP Ratings:  \n",
      "  - Test Energy Low (TEL):  \n",
      "    - Range: 236 km  \n",
      "    - Rated Consumption: 274 Wh/km  \n",
      "    - Vehicle Consumption: 254 Wh/km  \n",
      "  - Test Energy High (TEH):  \n",
      "    - Range: 213 km  \n",
      "    - Rated Consumption: 306 Wh/km  \n",
      "    - Vehicle Consumption: 282 Wh/km  \n",
      "  \n",
      "- Dimensions and Weight:  \n",
      "  - Length: 5140 mm  \n",
      "  - Width: 1928 mm  \n",
      "  - Width with mirrors: 2249 mm  \n",
      "  - Height: 1910 mm  \n",
      "  - Wheelbase: 3200 mm  \n",
      "  - Weight Unladen (EU): 2594 kg\u001b[0m\u001b[32;1m\u001b[1;3m\n",
      "Invoking: `update_persona` with `{'Demographics': 'Looking for a budget-friendly car', 'Psychology': 'Price-sensitive but values quality'}`\n",
      "\n",
      "\n",
      "\u001b[0mTools updated\n",
      "\u001b[36;1m\u001b[1;3mNone\u001b[0m\u001b[32;1m\u001b[1;3mBased on your preference for a budget-friendly option, I would recommend the Mercedes-Benz EQE SUV AMG 43 4MATIC. It's an electric car, which means you'll save on fuel costs in the long run. Here are some of its features:\n",
      "\n",
      "- Availability: Available since December 2022\n",
      "- Price (in EUR): \n",
      "  - The Netherlands: €130,791  \n",
      "  - Germany: €124,920  \n",
      "- Real Range: \n",
      "  - City - Cold Weather: 415 km  \n",
      "  - Highway - Cold Weather: 305 km  \n",
      "  - Combined - Cold Weather: 355 km  \n",
      "  - City - Mild Weather: 595 km  \n",
      "  - Highway - Mild Weather: 385 km  \n",
      "  - Combined - Mild Weather: 470 km  \n",
      "- Acceleration 0-100 km/h: 4.3 sec\n",
      "- Top Speed: 210 km/h\n",
      "- Total Power: 350 kW (476 PS)\n",
      "- Total Torque: 858 Nm\n",
      "- Drive: AWD\n",
      "- Nominal Battery Capacity: 100.0 kWh\n",
      "- Useable Battery Capacity: 90.6 kWh\n",
      "- Charge Port: Type 2, 22 kW AC\n",
      "\n",
      "If you're interested in a slightly cheaper model, the Mercedes-Benz EQE SUV is also a great choice. It's available since October 2023, and its price is €83,480 in The Netherlands and €83,479 in Germany. Its real range estimation is between 325 - 645 km, and it has a robust set of features similar to the AMG 43 4MATIC.\n",
      "\n",
      "Please let me know if you need more details about these models or if you have other preferences.\u001b[0m\n",
      "\n",
      "\u001b[1m> Finished chain.\u001b[0m\n"
     ]
    }
   ],
   "source": [
    "query = \"I want an budget friendly car?\"\n",
    "MESSAGES.append(HumanMessage(content=query))\n",
    "bot_response = agent_executor.invoke({\"input\": query, \"chat_history\":MESSAGES})['output']\n",
    "MESSAGES.append(AIMessage(content=bot_response))"
   ]
  },
  {
   "cell_type": "markdown",
   "metadata": {},
   "source": [
    "### SQLite Adding Information"
   ]
  },
  {
   "cell_type": "code",
   "execution_count": 178,
   "metadata": {},
   "outputs": [
    {
     "data": {
      "text/plain": [
       "[SystemMessage(content=\"This will assist customers to buy an electric car that will recommend only Mercedes cars. Your focus is giving concise answers and making a sale. You need to use the file 'user_persona' to identify their needs.                          The 'update_persona' function will be called whenever it gets information that needs to be added to any one of the four categories namely, Demographics, Customer Experience, Psychology and Marketing Implications.                           The 'summarize_chat' function will be called at the end of the chat to summarize all the information regarding the entire conversation. There will be the suggestions provided by the bot and corresponding to each of them there has to be a reaction recorded as in whether the customer had a positive or negative reaction. Give negative responses to the cars that the customer does not talk about when suggested. Each of the suggestions and the reactions should be in separate lines, preferably in bullet points.                          Do not ask many questions. Do not tell the user that the function has been called. Do not mention the source pdf from where it is getting the information.\"),\n",
       " HumanMessage(content='What car can you recommend for me?'),\n",
       " AIMessage(content=\"Sure, I can help with that. In order to recommend the best Mercedes electric car for you, I need to know a bit more about your preferences. Could you tell me what's most important to you in a car? Is it performance, comfort, driving range, or perhaps something else?\"),\n",
       " HumanMessage(content='I am a 30 year old from Munich?'),\n",
       " AIMessage(content=\"Great, thanks for sharing that. Are there any specific features or specifications you're interested in? For example, are you looking for high power and speed, long battery life, or maybe advanced tech features?\"),\n",
       " HumanMessage(content='I like fast cars?'),\n",
       " AIMessage(content=\"Based on your preference for speed and the fact that you live in Munich, I would recommend the following options:\\n\\n1. **Mercedes-Benz EQA 250**: This car has a fast charging speed of 570 km/h and a range of 395 km. This compact SUV is perfect for city driving and has a decent range for longer trips.\\n\\n2. **Mercedes-Benz EQE 350 4MATIC**: This car has a fast charging speed of 550 km/h and a range of 435 km. It's a larger vehicle, great if you need more space. It also has excellent safety ratings.\\n\\n3. **Mercedes-Benz EQE 350+**: This car has a fast charging speed of 670 km/h and a range of 530 km. It has seven seats and a large cargo volume, making it great for families or those who need extra space.\\n\\n4. **Mercedes-Benz EQS AMG 53 4MATIC+**: This is the ultimate in luxury and speed. The car has a top speed of 250 km/h and an acceleration of 0-100 km/h in just 3.4 seconds. It also has a range of 535 km.\\n\\nPlease let me know if any of these options appeal to you or if you need more information.\"),\n",
       " HumanMessage(content='Is driving an electic car fesiable in my area?'),\n",
       " AIMessage(content='Yes, driving an electric car in Munich is feasible. The city currently has 1,200 public charging stations and there are plans to add approximately 1,300 more by the end of a specified period. These stations offer electric vehicle owners four hours of parking for charging purposes. The German government also has a target of having one million public charging stations in place by 2030. The average price of electricity at public charging stations in Germany is around 0.40€ per kilowatt-hour. Most electric cars in Germany use the Type 2 CCS plug connector.\\n\\nBased on this, I would say that Munich is well-equipped for electric vehicle drivers.')]"
      ]
     },
     "execution_count": 178,
     "metadata": {},
     "output_type": "execute_result"
    }
   ],
   "source": [
    "MESSAGES"
   ]
  },
  {
   "cell_type": "code",
   "execution_count": 10,
   "metadata": {},
   "outputs": [],
   "source": [
    "import sqlite3\n",
    "\n",
    "\n",
    "def init_db():\n",
    "    conn = sqlite3.connect('users.db')\n",
    "    c = conn.cursor()\n",
    "    c.execute('''\n",
    "        CREATE TABLE IF NOT EXISTS profiles (\n",
    "            email_id TEXT PRIMARY KEY,\n",
    "            password TEXT NOT NULL,\n",
    "            demographics TEXT,\n",
    "            psychology TEXT,\n",
    "            experience TEXT,\n",
    "            marketing TEXT,\n",
    "            history TEXT\n",
    "        );\n",
    "    ''')\n",
    "    conn.commit()\n",
    "    conn.close()\n",
    "\n",
    "def add_user(email_id, password):\n",
    "    try:\n",
    "        conn = sqlite3.connect('users.db')\n",
    "        c = conn.cursor()\n",
    "        c.execute('''\n",
    "            INSERT INTO profiles (email_id, password) VALUES (?, ?)\n",
    "        ''', (email_id, password))\n",
    "        conn.commit()\n",
    "        conn.close()\n",
    "    except:\n",
    "        print(\"User already exists\")\n",
    "        conn.commit()\n",
    "        conn.close()\n",
    "\n",
    "def load_profile(email_id):\n",
    "    conn = sqlite3.connect('users.db')\n",
    "    c = conn.cursor()\n",
    "    c.execute('''\n",
    "        SELECT demographics, psychology, experience, marketing, history FROM profiles WHERE email_id = ?\n",
    "    ''', (email_id,))\n",
    "    profile = c.fetchone()\n",
    "    conn.close()\n",
    "    return profile\n",
    "\n",
    "def append_to_profile_column(email_id, column_name, data):\n",
    "    '''\n",
    "    Appends new information to one of emographics, psychology, experience, marketing columns\n",
    "    '''\n",
    "    conn = sqlite3.connect('users.db')\n",
    "    c = conn.cursor()\n",
    "    ## Get the current value in the column\n",
    "    c.execute('''\n",
    "        SELECT {} FROM profiles WHERE email_id = ?\n",
    "    '''.format(column_name), (email_id,))\n",
    "\n",
    "    current_value = c.fetchone()[0]\n",
    "    if current_value is None:\n",
    "        new_value = data\n",
    "    else:\n",
    "        new_value = current_value + \"/n\" + data\n",
    "    c.execute('''\n",
    "        UPDATE profiles SET {} = ? WHERE email_id = ?\n",
    "    '''.format(column_name), (new_value, email_id))\n",
    "    conn.commit()\n",
    "    conn.close()\n",
    "\n",
    "def display_profile_table():\n",
    "    conn = sqlite3.connect('users.db')\n",
    "    c = conn.cursor()\n",
    "    c.execute('''\n",
    "        SELECT * FROM profiles\n",
    "    ''')\n",
    "    rows = c.fetchall()\n",
    "    conn.close()\n",
    "    return rows\n",
    "\n",
    "def delete_user(email_id):\n",
    "    conn = sqlite3.connect('users.db')\n",
    "    c = conn.cursor()\n",
    "    c.execute('''\n",
    "        DELETE FROM profiles WHERE email_id = ?\n",
    "    ''', (email_id,))\n",
    "    conn.commit()\n",
    "    conn.close()\n",
    "\n",
    "def get_all_emails(exclude):\n",
    "    conn = sqlite3.connect('users.db')\n",
    "    c = conn.cursor()\n",
    "    c.execute('''\n",
    "        SELECT email_id FROM profiles WHERE email_id != ?\n",
    "    ''', (exclude,))\n",
    "    emails = c.fetchall()\n",
    "    conn.close()\n",
    "    return emails\n",
    "\n",
    "def does_email_exist(email):\n",
    "    conn = sqlite3.connect('users.db')\n",
    "    c = conn.cursor()\n",
    "    c.execute('''\n",
    "        SELECT email_id FROM profiles WHERE email_id = ?\n",
    "    ''', (email,))\n",
    "    rows = c.fetchall()\n",
    "    conn.close()\n",
    "    return len(rows) > 0\n",
    "\n",
    "def persona_to_text(email, file_name):\n",
    "    '''\n",
    "    Save the profile to a well structured text file .txt\n",
    "    '''\n",
    "    profile = load_profile(email)\n",
    "    text = f\"Email: {email}\\n\"\n",
    "    text += f\"Demographics: {profile[0]}\\n\"\n",
    "    text += f\"Psychology: {profile[1]}\\n\"\n",
    "    text += f\"Experience: {profile[2]}\\n\"\n",
    "    text += f\"Marketing: {profile[3]}\\n\"\n",
    "    text += f\"History: {profile[4]}\\n\"\n",
    "\n",
    "    ## Write to a text file\n",
    "    with open(f\"{file_name}.txt\", \"w\") as f:\n",
    "        f.write(text)\n",
    "\n",
    "def history_to_text(emails, file_name):\n",
    "    '''\n",
    "    Save the history of all emails to a text file\n",
    "    '''\n",
    "    text = \"\"\n",
    "    for email in emails:\n",
    "        profile = load_profile(email[0])\n",
    "        text += f\"Email: {email[0]}\\n\"\n",
    "        text += f\"History: {profile[4]}\\n\"\n",
    "        text += \"\\n\"\n",
    "\n",
    "    ## Write to a text file\n",
    "    with open(f\"{file_name}.txt\", \"w\") as f:\n",
    "        f.write(text)"
   ]
  },
  {
   "cell_type": "code",
   "execution_count": 2,
   "metadata": {},
   "outputs": [
    {
     "name": "stdout",
     "output_type": "stream",
     "text": [
      "User already exists\n"
     ]
    }
   ],
   "source": [
    "add_user('Viola@temp.com', '123')"
   ]
  },
  {
   "cell_type": "code",
   "execution_count": 3,
   "metadata": {},
   "outputs": [],
   "source": [
    "## Create a new user with email_id Franz@temp.com and password 123\n",
    "\n",
    "# init_db()\n",
    "# add_user('Sally@temp.com', '123')\n",
    "\n",
    "## Add this dictionary to Franz\n",
    "customer_info = {\n",
    "    \"demographics\": \"Constitutes 33% of the customer base, with strong numbers in Sweden, Switzerland, and Germany.\\nLargest and oldest segment, averaging 47 years.\\nPredominantly male.\\nAmong the lower income brackets.\\nFewer children in households, possibly due to grown children.\\nResides mainly in rural areas and smaller towns.\\nHighest proportion of retirees.\\nPrefers used cars, particularly from the mid-range segment, and keeps them the longest.\",\n",
    "                     \n",
    "    \"psychology\": \"Lowest brand loyalty, often opts for local independent service.\\nValues personal relationships, including with his service provider.\\nHighly price-sensitive but will pay for quality and service.\\nSeeks specialized service staff and personal connections.\\nInterested in car maintenance and resale value, but not as a status symbol.\\nSelectively digitally savvy.\\nCar is seen primarily as a means of transportation, not a status symbol.\",\n",
    "                  \n",
    "    \"experience\": \"Digitally engaged, especially in price comparison.\\nAmong the highest for not seeking information at all.\\nPrefers telephone communication for service bookings.\",\n",
    "                           \n",
    "    \"marketing\": \"Positioning Strategy: Value.\\nCan be a loyal customer if engaged, but challenging to attract due to long-standing personal relationships.\\nFocus on delivering quality and service at a fair price, without unnecessary frills.\"\n",
    "}\n",
    "\n",
    "for key, value in customer_info.items():\n",
    "    append_to_profile_column('Viola@temp.com',key,value)\n",
    "                             "
   ]
  },
  {
   "cell_type": "markdown",
   "metadata": {},
   "source": [
    "### Embedding Models"
   ]
  },
  {
   "cell_type": "code",
   "execution_count": 4,
   "metadata": {},
   "outputs": [],
   "source": [
    "from langchain_openai import OpenAIEmbeddings\n",
    "from langchain.evaluation import load_evaluator\n",
    "import numpy as np\n",
    "embeddings_model = OpenAIEmbeddings(model=\"text-embedding-ada-002\")\n",
    "\n",
    "hf_evaluator = load_evaluator(\"embedding_distance\", embeddings=embeddings_model)\n"
   ]
  },
  {
   "cell_type": "code",
   "execution_count": 7,
   "metadata": {},
   "outputs": [],
   "source": [
    "def get_similarity(email):\n",
    "    target = load_profile(email)[:-1]\n",
    "    email_lists = [i[0] for i in get_all_emails(email)]\n",
    "    lookups =  {i:load_profile(i)[:-1] for i in email_lists}\n",
    "    similarities = {}\n",
    "    for email,lookup in lookups.items():\n",
    "        similarity = []\n",
    "        for t, l in zip(target, lookup):\n",
    "            if t is not None and l is not None:\n",
    "                similarity.append(hf_evaluator.evaluate_strings(prediction=t, reference=l)['score'])\n",
    "        similarities[email] = np.mean(similarity)\n",
    "\n",
    "    return similarities"
   ]
  },
  {
   "cell_type": "code",
   "execution_count": 8,
   "metadata": {},
   "outputs": [
    {
     "data": {
      "text/plain": [
       "{'Franz@temp.com': 0.11153727355562928,\n",
       " 'Sally@temp.com': 0.11670364148574888,\n",
       " 'Viola@temp.com': 0.12527448644034478}"
      ]
     },
     "execution_count": 8,
     "metadata": {},
     "output_type": "execute_result"
    }
   ],
   "source": [
    "get_similarity('Peter@temp.com')"
   ]
  },
  {
   "cell_type": "code",
   "execution_count": 9,
   "metadata": {},
   "outputs": [
    {
     "data": {
      "text/plain": [
       "[('Sally@temp.com',\n",
       "  '123',\n",
       "  'Represents 14% of the global customer base, with a strong presence in China, France, and Switzerland.\\nA younger demographic averaging 32 years old.\\nSlightly more males but with a significant female representation.\\nNotably, many are childless couples with high disposable income.\\nHigh earners, ranking third among all personas.\\nA significant urban presence, especially in megacities.\\nMajority are in management roles.\\nPrefers new entry-level luxury vehicles, with a typical choice being a modern compact executive car.',\n",
       "  'No extreme psychographic traits but shows a lean towards luxury and convenience.\\nImpulsive buyer with a low inclination to save.\\nConforms to societal expectations and trends.\\nWilling to take financial risks.\\nSeeks social validation for purchases, less driven by intrinsic sustainability values but will pay for sustainable products.\\nHighly loyal and trusting towards the brand.',\n",
       "  'Influenced by communication and social circles to follow brand service recommendations.\\nLikely to adopt service contracts with new car purchases as a standard practice.',\n",
       "  'Positioning Strategy: Premium with a digital flair.\\nTargets the classic demographic but with a modern, digital influence.',\n",
       "  None),\n",
       " ('Franz@temp.com',\n",
       "  '123',\n",
       "  'Makes up 4% of the customer base internationally, with strong numbers in the USA, UK, Germany.\\nAverages 39 years old, with a significant portion over 55.\\nPredominantly male demographic.\\nHigh earners, with substantial incomes.\\nResides in rural areas, smaller cities, or suburbs.\\nMany in leadership roles or retired.\\nOwns multiple vehicles, prefers large luxury cars, and keeps them longer.',\n",
       "  'Not price-sensitive, willing to spend on luxury, convenience, and quality.\\nValues brand prestige, maintenance, and resale value, prioritizing quality over mere status.\\nLoyal to established brands and service providers, less interested in newer brands.\\nTraditionalist with interests in tennis, theater, and cruising.',\n",
       "  \"Engages digitally in the initial stages but prefers traditional transactions.\\nDoesn't seek much information as brand loyalty is strong.\\nPrefers setting service appointments via phone or direct click.\\nLikes pick-up service options and doesn't require a loaner vehicle due to having multiple cars.\",\n",
       "  'Positioning Strategy: High-end luxury.\\nTargets the classic luxury-seeking demographic.\\nEmphasizes personal service and interaction, catering to those with a willingness to pay for luxury experiences.',\n",
       "  None),\n",
       " ('Peter@temp.com',\n",
       "  '123',\n",
       "  'Represents 8% of customers globally, with a strong presence in China, Brazil, and Canada.\\nYoungest age group averaging 34, with many having children, signifying status in certain regions.\\nEarns a high income, signifying affluent professionals with growth potential.\\nLives in urban areas, mostly in large cities.\\nMajority are in management roles and prefer new, young luxury compact SUVs.',\n",
       "  'Deeply passionate about cars with a wide range of interests, valuing luxury and exclusive experiences.\\nFavors high-end brands across various sectors, including tech and luxury EVs.\\nCost-aware but expects quality and performance for the price.\\nDigitally engaged and sustainability-conscious, willing to invest in eco-friendly options.\\nValues quality service and parts, with strong brand loyalty that depends on meeting high standards.',\n",
       "  'Heavily uses digital channels for need identification, service communication, and documentation.',\n",
       "  'Focus on premium in positioning.\\nTargets a digitally savvy audience, offering a mix of digital and personalized services, with a clear value proposition, especially in luxury and sustainability.',\n",
       "  None),\n",
       " ('Viola@temp.com',\n",
       "  '123',\n",
       "  'Constitutes 33% of the customer base, with strong numbers in Sweden, Switzerland, and Germany.\\nLargest and oldest segment, averaging 47 years.\\nPredominantly male.\\nAmong the lower income brackets.\\nFewer children in households, possibly due to grown children.\\nResides mainly in rural areas and smaller towns.\\nHighest proportion of retirees.\\nPrefers used cars, particularly from the mid-range segment, and keeps them the longest.',\n",
       "  'Lowest brand loyalty, often opts for local independent service.\\nValues personal relationships, including with his service provider.\\nHighly price-sensitive but will pay for quality and service.\\nSeeks specialized service staff and personal connections.\\nInterested in car maintenance and resale value, but not as a status symbol.\\nSelectively digitally savvy.\\nCar is seen primarily as a means of transportation, not a status symbol.',\n",
       "  'Digitally engaged, especially in price comparison.\\nAmong the highest for not seeking information at all.\\nPrefers telephone communication for service bookings.',\n",
       "  'Positioning Strategy: Value.\\nCan be a loyal customer if engaged, but challenging to attract due to long-standing personal relationships.\\nFocus on delivering quality and service at a fair price, without unnecessary frills.',\n",
       "  None)]"
      ]
     },
     "execution_count": 9,
     "metadata": {},
     "output_type": "execute_result"
    }
   ],
   "source": [
    "display_profile_table()"
   ]
  },
  {
   "cell_type": "markdown",
   "metadata": {},
   "source": [
    "### Import "
   ]
  },
  {
   "cell_type": "code",
   "execution_count": 1,
   "metadata": {},
   "outputs": [],
   "source": [
    "import sys\n",
    "sys.path.append('./utils/')\n",
    "from gpt_tools import *"
   ]
  },
  {
   "cell_type": "code",
   "execution_count": 2,
   "metadata": {},
   "outputs": [
    {
     "data": {
      "text/plain": [
       "{'Franz@temp.com': 0.11149944428203365,\n",
       " 'Sally@temp.com': 0.11670364148574888,\n",
       " 'Viola@temp.com': 0.125276939241023}"
      ]
     },
     "execution_count": 2,
     "metadata": {},
     "output_type": "execute_result"
    }
   ],
   "source": [
    "get_similarity('Peter@temp.com')"
   ]
  },
  {
   "cell_type": "markdown",
   "metadata": {},
   "source": [
    "## Import Try"
   ]
  },
  {
   "cell_type": "code",
   "execution_count": 1,
   "metadata": {},
   "outputs": [],
   "source": [
    "import sys\n",
    "sys.path.append('./utils/')\n",
    "from gpt_tools import *"
   ]
  },
  {
   "cell_type": "code",
   "execution_count": 2,
   "metadata": {},
   "outputs": [
    {
     "name": "stderr",
     "output_type": "stream",
     "text": [
      "c:\\Users\\vishw\\anaconda3\\Lib\\site-packages\\numpy\\core\\fromnumeric.py:3464: RuntimeWarning: Mean of empty slice.\n",
      "  return _methods._mean(a, axis=axis, dtype=dtype,\n",
      "c:\\Users\\vishw\\anaconda3\\Lib\\site-packages\\numpy\\core\\_methods.py:192: RuntimeWarning: invalid value encountered in scalar divide\n",
      "  ret = ret.dtype.type(ret / rcount)\n"
     ]
    }
   ],
   "source": [
    "USER_ID = 'vishwa20@outlook.com'\n",
    "update_user_id(USER_ID)\n",
    "add_user(USER_ID, '123')\n",
    "refresh_user_data(USER_ID)"
   ]
  },
  {
   "cell_type": "code",
   "execution_count": 3,
   "metadata": {},
   "outputs": [
    {
     "name": "stdout",
     "output_type": "stream",
     "text": [
      "[DuckDuckGoSearchRun(), Tool(name='mercedes_e_cars_specs', description='Information about mercedes electric cars and their specifications', args_schema=<class 'langchain.tools.retriever.RetrieverInput'>, func=functools.partial(<function _get_relevant_documents at 0x000001DF325C2840>, retriever=VectorStoreRetriever(tags=['FAISS', 'OpenAIEmbeddings'], vectorstore=<langchain_community.vectorstores.faiss.FAISS object at 0x000001DF33186850>), document_prompt=PromptTemplate(input_variables=['page_content'], template='{page_content}'), document_separator='\\n\\n'), coroutine=functools.partial(<function _aget_relevant_documents at 0x000001DF325C3740>, retriever=VectorStoreRetriever(tags=['FAISS', 'OpenAIEmbeddings'], vectorstore=<langchain_community.vectorstores.faiss.FAISS object at 0x000001DF33186850>), document_prompt=PromptTemplate(input_variables=['page_content'], template='{page_content}'), document_separator='\\n\\n')), Tool(name='user_persona', description='User persona', args_schema=<class 'langchain.tools.retriever.RetrieverInput'>, func=functools.partial(<function _get_relevant_documents at 0x000001DF325C2840>, retriever=VectorStoreRetriever(tags=['FAISS', 'OpenAIEmbeddings'], vectorstore=<langchain_community.vectorstores.faiss.FAISS object at 0x000001DF85417E90>), document_prompt=PromptTemplate(input_variables=['page_content'], template='{page_content}'), document_separator='\\n\\n'), coroutine=functools.partial(<function _aget_relevant_documents at 0x000001DF325C3740>, retriever=VectorStoreRetriever(tags=['FAISS', 'OpenAIEmbeddings'], vectorstore=<langchain_community.vectorstores.faiss.FAISS object at 0x000001DF85417E90>), document_prompt=PromptTemplate(input_variables=['page_content'], template='{page_content}'), document_separator='\\n\\n')), Tool(name='similar_history', description='History of users with similar preferences', args_schema=<class 'langchain.tools.retriever.RetrieverInput'>, func=functools.partial(<function _get_relevant_documents at 0x000001DF325C2840>, retriever=VectorStoreRetriever(tags=['FAISS', 'OpenAIEmbeddings'], vectorstore=<langchain_community.vectorstores.faiss.FAISS object at 0x000001DF845A5F90>), document_prompt=PromptTemplate(input_variables=['page_content'], template='{page_content}'), document_separator='\\n\\n'), coroutine=functools.partial(<function _aget_relevant_documents at 0x000001DF325C3740>, retriever=VectorStoreRetriever(tags=['FAISS', 'OpenAIEmbeddings'], vectorstore=<langchain_community.vectorstores.faiss.FAISS object at 0x000001DF845A5F90>), document_prompt=PromptTemplate(input_variables=['page_content'], template='{page_content}'), document_separator='\\n\\n')), StructuredTool(name='update_persona', description='update_persona(Demographics: str = None, Customer_Experience: str = None, Psychology: str = None, Marketing_Implications: str = None) -> None - Get information of a user and make a persona by dividing the information into Demographics, Customer Experience, Psychology and Marketing Implications according to the way each of them are described. Used to update the current database and should be called whenever you get info about any parameters. All parameters need not be passed to call this.', args_schema=<class 'gpt_tools.Persona'>, func=<function update_persona at 0x000001DF33173B00>), StructuredTool(name='summarize_chat', description='summarize_chat(chat_highlights: str) -> None - Summarizes the entire conversation that the customer had with the bot.', args_schema=<class 'gpt_tools.SummarizeChat'>, func=<function summarize_chat at 0x000001DF33173CE0>)]\n",
      "\n",
      "\n",
      "\u001b[1m> Entering new AgentExecutor chain...\u001b[0m\n",
      "\u001b[32;1m\u001b[1;3mCould you please specify the context? Are you inquiring about alternative electric cars to a particular Mercedes model or just in general?\u001b[0m\n",
      "\n",
      "\u001b[1m> Finished chain.\u001b[0m\n"
     ]
    },
    {
     "data": {
      "text/plain": [
       "'Could you please specify the context? Are you inquiring about alternative electric cars to a particular Mercedes model or just in general?'"
      ]
     },
     "execution_count": 3,
     "metadata": {},
     "output_type": "execute_result"
    }
   ],
   "source": [
    "chat(\"Which are some other alternatives?\")"
   ]
  },
  {
   "cell_type": "code",
   "execution_count": 6,
   "metadata": {},
   "outputs": [
    {
     "name": "stdout",
     "output_type": "stream",
     "text": [
      "[DuckDuckGoSearchRun(), Tool(name='mercedes_e_cars_specs', description='Information about mercedes electric cars and their specifications', args_schema=<class 'langchain.tools.retriever.RetrieverInput'>, func=functools.partial(<function _get_relevant_documents at 0x000001DF325C2840>, retriever=VectorStoreRetriever(tags=['FAISS', 'OpenAIEmbeddings'], vectorstore=<langchain_community.vectorstores.faiss.FAISS object at 0x000001DF33186850>), document_prompt=PromptTemplate(input_variables=['page_content'], template='{page_content}'), document_separator='\\n\\n'), coroutine=functools.partial(<function _aget_relevant_documents at 0x000001DF325C3740>, retriever=VectorStoreRetriever(tags=['FAISS', 'OpenAIEmbeddings'], vectorstore=<langchain_community.vectorstores.faiss.FAISS object at 0x000001DF33186850>), document_prompt=PromptTemplate(input_variables=['page_content'], template='{page_content}'), document_separator='\\n\\n')), Tool(name='user_persona', description='User persona', args_schema=<class 'langchain.tools.retriever.RetrieverInput'>, func=functools.partial(<function _get_relevant_documents at 0x000001DF325C2840>, retriever=VectorStoreRetriever(tags=['FAISS', 'OpenAIEmbeddings'], vectorstore=<langchain_community.vectorstores.faiss.FAISS object at 0x000001DF33091710>), document_prompt=PromptTemplate(input_variables=['page_content'], template='{page_content}'), document_separator='\\n\\n'), coroutine=functools.partial(<function _aget_relevant_documents at 0x000001DF325C3740>, retriever=VectorStoreRetriever(tags=['FAISS', 'OpenAIEmbeddings'], vectorstore=<langchain_community.vectorstores.faiss.FAISS object at 0x000001DF33091710>), document_prompt=PromptTemplate(input_variables=['page_content'], template='{page_content}'), document_separator='\\n\\n')), Tool(name='similar_history', description='History of users with similar preferences', args_schema=<class 'langchain.tools.retriever.RetrieverInput'>, func=functools.partial(<function _get_relevant_documents at 0x000001DF325C2840>, retriever=VectorStoreRetriever(tags=['FAISS', 'OpenAIEmbeddings'], vectorstore=<langchain_community.vectorstores.faiss.FAISS object at 0x000001DF854B7990>), document_prompt=PromptTemplate(input_variables=['page_content'], template='{page_content}'), document_separator='\\n\\n'), coroutine=functools.partial(<function _aget_relevant_documents at 0x000001DF325C3740>, retriever=VectorStoreRetriever(tags=['FAISS', 'OpenAIEmbeddings'], vectorstore=<langchain_community.vectorstores.faiss.FAISS object at 0x000001DF854B7990>), document_prompt=PromptTemplate(input_variables=['page_content'], template='{page_content}'), document_separator='\\n\\n')), StructuredTool(name='update_persona', description='update_persona(Demographics: str = None, Customer_Experience: str = None, Psychology: str = None, Marketing_Implications: str = None) -> None - Get information of a user and make a persona by dividing the information into Demographics, Customer Experience, Psychology and Marketing Implications according to the way each of them are described. Used to update the current database and should be called whenever you get info about any parameters. All parameters need not be passed to call this.', args_schema=<class 'gpt_tools.Persona'>, func=<function update_persona at 0x000001DF33173B00>), StructuredTool(name='summarize_chat', description='summarize_chat(chat_highlights: str) -> None - Summarizes the entire conversation that the customer had with the bot.', args_schema=<class 'gpt_tools.SummarizeChat'>, func=<function summarize_chat at 0x000001DF33173CE0>)]\n",
      "\n",
      "\n",
      "\u001b[1m> Entering new AgentExecutor chain...\u001b[0m\n",
      "\u001b[32;1m\u001b[1;3m\n",
      "Invoking: `update_persona` with `{'Demographics': '22 years old, looking for budget friendly options', 'Psychology': 'Open to considering cheaper electric car models'}`\n",
      "\n",
      "\n",
      "\u001b[0mTools updated\n",
      "\u001b[33;1m\u001b[1;3mNone\u001b[0m\u001b[32;1m\u001b[1;3m\n",
      "Invoking: `summarize_chat` with `{'chat_highlights': '- EQE SUV AMG 43 4MATIC suggested: Disliked due to high price.\\n- EQE SUV suggested: Disliked due to high price.\\n- EQB 250+ suggested: Liked, considering due to budget-friendly price.\\n- EQA 250 suggested: Liked, considering due to budget-friendly price.'}`\n",
      "\n",
      "\n",
      "\u001b[0mTools updated\n",
      "\u001b[38;5;200m\u001b[1;3mNone\u001b[0m\u001b[32;1m\u001b[1;3mI'm glad you found the suggestions helpful! If you have any more questions or need further assistance, feel free to ask. Happy car shopping!\u001b[0m\n",
      "\n",
      "\u001b[1m> Finished chain.\u001b[0m\n"
     ]
    },
    {
     "data": {
      "text/plain": [
       "\"I'm glad you found the suggestions helpful! If you have any more questions or need further assistance, feel free to ask. Happy car shopping!\""
      ]
     },
     "execution_count": 6,
     "metadata": {},
     "output_type": "execute_result"
    }
   ],
   "source": [
    "chat(\"Thanks, these seem great. I will consider them.\")"
   ]
  },
  {
   "cell_type": "code",
   "execution_count": 7,
   "metadata": {},
   "outputs": [],
   "source": [
    "delete_user(USER_ID)"
   ]
  }
 ],
 "metadata": {
  "kernelspec": {
   "display_name": "Python 3",
   "language": "python",
   "name": "python3"
  },
  "language_info": {
   "codemirror_mode": {
    "name": "ipython",
    "version": 3
   },
   "file_extension": ".py",
   "mimetype": "text/x-python",
   "name": "python",
   "nbconvert_exporter": "python",
   "pygments_lexer": "ipython3",
   "version": "3.11.4"
  }
 },
 "nbformat": 4,
 "nbformat_minor": 2
}
